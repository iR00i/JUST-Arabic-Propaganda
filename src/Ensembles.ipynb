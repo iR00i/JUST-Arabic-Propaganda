{
  "nbformat": 4,
  "nbformat_minor": 0,
  "metadata": {
    "colab": {
      "name": "Ensembles.ipynb",
      "provenance": [],
      "toc_visible": true
    },
    "kernelspec": {
      "name": "python3",
      "display_name": "Python 3"
    },
    "language_info": {
      "name": "python"
    },
    "accelerator": "GPU",
    "widgets": {
      "application/vnd.jupyter.widget-state+json": {
        "81d75ea41b6a485387d99729da02e8f7": {
          "model_module": "@jupyter-widgets/controls",
          "model_name": "HBoxModel",
          "model_module_version": "1.5.0",
          "state": {
            "_view_name": "HBoxView",
            "_dom_classes": [],
            "_model_name": "HBoxModel",
            "_view_module": "@jupyter-widgets/controls",
            "_model_module_version": "1.5.0",
            "_view_count": null,
            "_view_module_version": "1.5.0",
            "box_style": "",
            "layout": "IPY_MODEL_63884e9793d549e6964d6cfa535375d3",
            "_model_module": "@jupyter-widgets/controls",
            "children": [
              "IPY_MODEL_f45ed80d72cf422b8de85b16590014da",
              "IPY_MODEL_dc92a5310dce422e8800a661f0a4bfdc",
              "IPY_MODEL_259b1cac90e54b99bba2dbbb8667aeca"
            ]
          }
        },
        "63884e9793d549e6964d6cfa535375d3": {
          "model_module": "@jupyter-widgets/base",
          "model_name": "LayoutModel",
          "model_module_version": "1.2.0",
          "state": {
            "_view_name": "LayoutView",
            "grid_template_rows": null,
            "right": null,
            "justify_content": null,
            "_view_module": "@jupyter-widgets/base",
            "overflow": null,
            "_model_module_version": "1.2.0",
            "_view_count": null,
            "flex_flow": null,
            "width": null,
            "min_width": null,
            "border": null,
            "align_items": null,
            "bottom": null,
            "_model_module": "@jupyter-widgets/base",
            "top": null,
            "grid_column": null,
            "overflow_y": null,
            "overflow_x": null,
            "grid_auto_flow": null,
            "grid_area": null,
            "grid_template_columns": null,
            "flex": null,
            "_model_name": "LayoutModel",
            "justify_items": null,
            "grid_row": null,
            "max_height": null,
            "align_content": null,
            "visibility": null,
            "align_self": null,
            "height": null,
            "min_height": null,
            "padding": null,
            "grid_auto_rows": null,
            "grid_gap": null,
            "max_width": null,
            "order": null,
            "_view_module_version": "1.2.0",
            "grid_template_areas": null,
            "object_position": null,
            "object_fit": null,
            "grid_auto_columns": null,
            "margin": null,
            "display": null,
            "left": null
          }
        },
        "f45ed80d72cf422b8de85b16590014da": {
          "model_module": "@jupyter-widgets/controls",
          "model_name": "HTMLModel",
          "model_module_version": "1.5.0",
          "state": {
            "_view_name": "HTMLView",
            "style": "IPY_MODEL_3d845bd97ea442a89204ba42332a3fd2",
            "_dom_classes": [],
            "description": "",
            "_model_name": "HTMLModel",
            "placeholder": "​",
            "_view_module": "@jupyter-widgets/controls",
            "_model_module_version": "1.5.0",
            "value": "100%",
            "_view_count": null,
            "_view_module_version": "1.5.0",
            "description_tooltip": null,
            "_model_module": "@jupyter-widgets/controls",
            "layout": "IPY_MODEL_04429a7ae4df424197b858066ad6df13"
          }
        },
        "dc92a5310dce422e8800a661f0a4bfdc": {
          "model_module": "@jupyter-widgets/controls",
          "model_name": "FloatProgressModel",
          "model_module_version": "1.5.0",
          "state": {
            "_view_name": "ProgressView",
            "style": "IPY_MODEL_61fcc04405324bb781fcca7b519f65c9",
            "_dom_classes": [],
            "description": "",
            "_model_name": "FloatProgressModel",
            "bar_style": "success",
            "max": 720,
            "_view_module": "@jupyter-widgets/controls",
            "_model_module_version": "1.5.0",
            "value": 720,
            "_view_count": null,
            "_view_module_version": "1.5.0",
            "orientation": "horizontal",
            "min": 0,
            "description_tooltip": null,
            "_model_module": "@jupyter-widgets/controls",
            "layout": "IPY_MODEL_c9534fec28d24e40b845156e94713ef0"
          }
        },
        "259b1cac90e54b99bba2dbbb8667aeca": {
          "model_module": "@jupyter-widgets/controls",
          "model_name": "HTMLModel",
          "model_module_version": "1.5.0",
          "state": {
            "_view_name": "HTMLView",
            "style": "IPY_MODEL_f373bcfb38db46c2b5c158e592ee699d",
            "_dom_classes": [],
            "description": "",
            "_model_name": "HTMLModel",
            "placeholder": "​",
            "_view_module": "@jupyter-widgets/controls",
            "_model_module_version": "1.5.0",
            "value": " 720/720 [00:23&lt;00:00, 31.46it/s]",
            "_view_count": null,
            "_view_module_version": "1.5.0",
            "description_tooltip": null,
            "_model_module": "@jupyter-widgets/controls",
            "layout": "IPY_MODEL_cb1ef9a6d49d4df380dc1975ad75abc8"
          }
        },
        "3d845bd97ea442a89204ba42332a3fd2": {
          "model_module": "@jupyter-widgets/controls",
          "model_name": "DescriptionStyleModel",
          "model_module_version": "1.5.0",
          "state": {
            "_view_name": "StyleView",
            "_model_name": "DescriptionStyleModel",
            "description_width": "",
            "_view_module": "@jupyter-widgets/base",
            "_model_module_version": "1.5.0",
            "_view_count": null,
            "_view_module_version": "1.2.0",
            "_model_module": "@jupyter-widgets/controls"
          }
        },
        "04429a7ae4df424197b858066ad6df13": {
          "model_module": "@jupyter-widgets/base",
          "model_name": "LayoutModel",
          "model_module_version": "1.2.0",
          "state": {
            "_view_name": "LayoutView",
            "grid_template_rows": null,
            "right": null,
            "justify_content": null,
            "_view_module": "@jupyter-widgets/base",
            "overflow": null,
            "_model_module_version": "1.2.0",
            "_view_count": null,
            "flex_flow": null,
            "width": null,
            "min_width": null,
            "border": null,
            "align_items": null,
            "bottom": null,
            "_model_module": "@jupyter-widgets/base",
            "top": null,
            "grid_column": null,
            "overflow_y": null,
            "overflow_x": null,
            "grid_auto_flow": null,
            "grid_area": null,
            "grid_template_columns": null,
            "flex": null,
            "_model_name": "LayoutModel",
            "justify_items": null,
            "grid_row": null,
            "max_height": null,
            "align_content": null,
            "visibility": null,
            "align_self": null,
            "height": null,
            "min_height": null,
            "padding": null,
            "grid_auto_rows": null,
            "grid_gap": null,
            "max_width": null,
            "order": null,
            "_view_module_version": "1.2.0",
            "grid_template_areas": null,
            "object_position": null,
            "object_fit": null,
            "grid_auto_columns": null,
            "margin": null,
            "display": null,
            "left": null
          }
        },
        "61fcc04405324bb781fcca7b519f65c9": {
          "model_module": "@jupyter-widgets/controls",
          "model_name": "ProgressStyleModel",
          "model_module_version": "1.5.0",
          "state": {
            "_view_name": "StyleView",
            "_model_name": "ProgressStyleModel",
            "description_width": "",
            "_view_module": "@jupyter-widgets/base",
            "_model_module_version": "1.5.0",
            "_view_count": null,
            "_view_module_version": "1.2.0",
            "bar_color": null,
            "_model_module": "@jupyter-widgets/controls"
          }
        },
        "c9534fec28d24e40b845156e94713ef0": {
          "model_module": "@jupyter-widgets/base",
          "model_name": "LayoutModel",
          "model_module_version": "1.2.0",
          "state": {
            "_view_name": "LayoutView",
            "grid_template_rows": null,
            "right": null,
            "justify_content": null,
            "_view_module": "@jupyter-widgets/base",
            "overflow": null,
            "_model_module_version": "1.2.0",
            "_view_count": null,
            "flex_flow": null,
            "width": null,
            "min_width": null,
            "border": null,
            "align_items": null,
            "bottom": null,
            "_model_module": "@jupyter-widgets/base",
            "top": null,
            "grid_column": null,
            "overflow_y": null,
            "overflow_x": null,
            "grid_auto_flow": null,
            "grid_area": null,
            "grid_template_columns": null,
            "flex": null,
            "_model_name": "LayoutModel",
            "justify_items": null,
            "grid_row": null,
            "max_height": null,
            "align_content": null,
            "visibility": null,
            "align_self": null,
            "height": null,
            "min_height": null,
            "padding": null,
            "grid_auto_rows": null,
            "grid_gap": null,
            "max_width": null,
            "order": null,
            "_view_module_version": "1.2.0",
            "grid_template_areas": null,
            "object_position": null,
            "object_fit": null,
            "grid_auto_columns": null,
            "margin": null,
            "display": null,
            "left": null
          }
        },
        "f373bcfb38db46c2b5c158e592ee699d": {
          "model_module": "@jupyter-widgets/controls",
          "model_name": "DescriptionStyleModel",
          "model_module_version": "1.5.0",
          "state": {
            "_view_name": "StyleView",
            "_model_name": "DescriptionStyleModel",
            "description_width": "",
            "_view_module": "@jupyter-widgets/base",
            "_model_module_version": "1.5.0",
            "_view_count": null,
            "_view_module_version": "1.2.0",
            "_model_module": "@jupyter-widgets/controls"
          }
        },
        "cb1ef9a6d49d4df380dc1975ad75abc8": {
          "model_module": "@jupyter-widgets/base",
          "model_name": "LayoutModel",
          "model_module_version": "1.2.0",
          "state": {
            "_view_name": "LayoutView",
            "grid_template_rows": null,
            "right": null,
            "justify_content": null,
            "_view_module": "@jupyter-widgets/base",
            "overflow": null,
            "_model_module_version": "1.2.0",
            "_view_count": null,
            "flex_flow": null,
            "width": null,
            "min_width": null,
            "border": null,
            "align_items": null,
            "bottom": null,
            "_model_module": "@jupyter-widgets/base",
            "top": null,
            "grid_column": null,
            "overflow_y": null,
            "overflow_x": null,
            "grid_auto_flow": null,
            "grid_area": null,
            "grid_template_columns": null,
            "flex": null,
            "_model_name": "LayoutModel",
            "justify_items": null,
            "grid_row": null,
            "max_height": null,
            "align_content": null,
            "visibility": null,
            "align_self": null,
            "height": null,
            "min_height": null,
            "padding": null,
            "grid_auto_rows": null,
            "grid_gap": null,
            "max_width": null,
            "order": null,
            "_view_module_version": "1.2.0",
            "grid_template_areas": null,
            "object_position": null,
            "object_fit": null,
            "grid_auto_columns": null,
            "margin": null,
            "display": null,
            "left": null
          }
        }
      }
    }
  },
  "cells": [
    {
      "cell_type": "markdown",
      "metadata": {
        "id": "Zg0Jx2LNXnrU"
      },
      "source": [
        "#Mount and imports"
      ]
    },
    {
      "cell_type": "code",
      "metadata": {
        "colab": {
          "base_uri": "https://localhost:8080/"
        },
        "id": "S3UE6rgyXUeJ",
        "outputId": "93e53b2d-0688-40ba-c8af-918e88828699"
      },
      "source": [
        "from google.colab import drive\n",
        "drive.mount('/content/drive',force_remount = True)"
      ],
      "execution_count": 1,
      "outputs": [
        {
          "output_type": "stream",
          "name": "stdout",
          "text": [
            "Mounted at /content/drive\n"
          ]
        }
      ]
    },
    {
      "cell_type": "code",
      "metadata": {
        "colab": {
          "base_uri": "https://localhost:8080/"
        },
        "id": "xYIC5eLz1yx2",
        "outputId": "671759f1-e476-4b83-e0e4-7da46a397976"
      },
      "source": [
        "!nvidia-smi"
      ],
      "execution_count": 2,
      "outputs": [
        {
          "output_type": "stream",
          "name": "stdout",
          "text": [
            "Wed Nov  3 13:44:34 2021       \n",
            "+-----------------------------------------------------------------------------+\n",
            "| NVIDIA-SMI 495.44       Driver Version: 460.32.03    CUDA Version: 11.2     |\n",
            "|-------------------------------+----------------------+----------------------+\n",
            "| GPU  Name        Persistence-M| Bus-Id        Disp.A | Volatile Uncorr. ECC |\n",
            "| Fan  Temp  Perf  Pwr:Usage/Cap|         Memory-Usage | GPU-Util  Compute M. |\n",
            "|                               |                      |               MIG M. |\n",
            "|===============================+======================+======================|\n",
            "|   0  Tesla P100-PCIE...  Off  | 00000000:00:04.0 Off |                    0 |\n",
            "| N/A   38C    P0    28W / 250W |      0MiB / 16280MiB |      0%      Default |\n",
            "|                               |                      |                  N/A |\n",
            "+-------------------------------+----------------------+----------------------+\n",
            "                                                                               \n",
            "+-----------------------------------------------------------------------------+\n",
            "| Processes:                                                                  |\n",
            "|  GPU   GI   CI        PID   Type   Process name                  GPU Memory |\n",
            "|        ID   ID                                                   Usage      |\n",
            "|=============================================================================|\n",
            "|  No running processes found                                                 |\n",
            "+-----------------------------------------------------------------------------+\n"
          ]
        }
      ]
    },
    {
      "cell_type": "code",
      "metadata": {
        "colab": {
          "base_uri": "https://localhost:8080/"
        },
        "id": "QIV4eK0c2Co_",
        "outputId": "833f9be5-06c6-40ec-e4cb-df6965a33461"
      },
      "source": [
        "!pip install transformers==4.2.1\n",
        "!pip install farasapy\n",
        "!pip install pyarabic\n",
        "!pip install sentencepiece\n",
        "!git clone https://github.com/aub-mind/arabert\n",
        "!git clone https://github.com/iR00i/JUST-Arabic-Propaganda.git"
      ],
      "execution_count": 3,
      "outputs": [
        {
          "output_type": "stream",
          "name": "stdout",
          "text": [
            "Collecting transformers==4.2.1\n",
            "  Downloading transformers-4.2.1-py3-none-any.whl (1.8 MB)\n",
            "\u001b[K     |████████████████████████████████| 1.8 MB 7.7 MB/s \n",
            "\u001b[?25hRequirement already satisfied: requests in /usr/local/lib/python3.7/dist-packages (from transformers==4.2.1) (2.23.0)\n",
            "Requirement already satisfied: tqdm>=4.27 in /usr/local/lib/python3.7/dist-packages (from transformers==4.2.1) (4.62.3)\n",
            "Requirement already satisfied: importlib-metadata in /usr/local/lib/python3.7/dist-packages (from transformers==4.2.1) (4.8.1)\n",
            "Requirement already satisfied: numpy in /usr/local/lib/python3.7/dist-packages (from transformers==4.2.1) (1.19.5)\n",
            "Collecting sacremoses\n",
            "  Downloading sacremoses-0.0.46-py3-none-any.whl (895 kB)\n",
            "\u001b[K     |████████████████████████████████| 895 kB 55.9 MB/s \n",
            "\u001b[?25hRequirement already satisfied: packaging in /usr/local/lib/python3.7/dist-packages (from transformers==4.2.1) (21.0)\n",
            "Requirement already satisfied: regex!=2019.12.17 in /usr/local/lib/python3.7/dist-packages (from transformers==4.2.1) (2019.12.20)\n",
            "Requirement already satisfied: filelock in /usr/local/lib/python3.7/dist-packages (from transformers==4.2.1) (3.3.0)\n",
            "Collecting tokenizers==0.9.4\n",
            "  Downloading tokenizers-0.9.4-cp37-cp37m-manylinux2010_x86_64.whl (2.9 MB)\n",
            "\u001b[K     |████████████████████████████████| 2.9 MB 58.4 MB/s \n",
            "\u001b[?25hRequirement already satisfied: zipp>=0.5 in /usr/local/lib/python3.7/dist-packages (from importlib-metadata->transformers==4.2.1) (3.6.0)\n",
            "Requirement already satisfied: typing-extensions>=3.6.4 in /usr/local/lib/python3.7/dist-packages (from importlib-metadata->transformers==4.2.1) (3.7.4.3)\n",
            "Requirement already satisfied: pyparsing>=2.0.2 in /usr/local/lib/python3.7/dist-packages (from packaging->transformers==4.2.1) (2.4.7)\n",
            "Requirement already satisfied: idna<3,>=2.5 in /usr/local/lib/python3.7/dist-packages (from requests->transformers==4.2.1) (2.10)\n",
            "Requirement already satisfied: urllib3!=1.25.0,!=1.25.1,<1.26,>=1.21.1 in /usr/local/lib/python3.7/dist-packages (from requests->transformers==4.2.1) (1.24.3)\n",
            "Requirement already satisfied: chardet<4,>=3.0.2 in /usr/local/lib/python3.7/dist-packages (from requests->transformers==4.2.1) (3.0.4)\n",
            "Requirement already satisfied: certifi>=2017.4.17 in /usr/local/lib/python3.7/dist-packages (from requests->transformers==4.2.1) (2021.5.30)\n",
            "Requirement already satisfied: six in /usr/local/lib/python3.7/dist-packages (from sacremoses->transformers==4.2.1) (1.15.0)\n",
            "Requirement already satisfied: joblib in /usr/local/lib/python3.7/dist-packages (from sacremoses->transformers==4.2.1) (1.0.1)\n",
            "Requirement already satisfied: click in /usr/local/lib/python3.7/dist-packages (from sacremoses->transformers==4.2.1) (7.1.2)\n",
            "Installing collected packages: tokenizers, sacremoses, transformers\n",
            "Successfully installed sacremoses-0.0.46 tokenizers-0.9.4 transformers-4.2.1\n",
            "Collecting farasapy\n",
            "  Downloading farasapy-0.0.14-py3-none-any.whl (11 kB)\n",
            "Requirement already satisfied: tqdm in /usr/local/lib/python3.7/dist-packages (from farasapy) (4.62.3)\n",
            "Requirement already satisfied: requests in /usr/local/lib/python3.7/dist-packages (from farasapy) (2.23.0)\n",
            "Requirement already satisfied: chardet<4,>=3.0.2 in /usr/local/lib/python3.7/dist-packages (from requests->farasapy) (3.0.4)\n",
            "Requirement already satisfied: certifi>=2017.4.17 in /usr/local/lib/python3.7/dist-packages (from requests->farasapy) (2021.5.30)\n",
            "Requirement already satisfied: urllib3!=1.25.0,!=1.25.1,<1.26,>=1.21.1 in /usr/local/lib/python3.7/dist-packages (from requests->farasapy) (1.24.3)\n",
            "Requirement already satisfied: idna<3,>=2.5 in /usr/local/lib/python3.7/dist-packages (from requests->farasapy) (2.10)\n",
            "Installing collected packages: farasapy\n",
            "Successfully installed farasapy-0.0.14\n",
            "Collecting pyarabic\n",
            "  Downloading PyArabic-0.6.14-py3-none-any.whl (126 kB)\n",
            "\u001b[K     |████████████████████████████████| 126 kB 8.6 MB/s \n",
            "\u001b[?25hRequirement already satisfied: six>=1.14.0 in /usr/local/lib/python3.7/dist-packages (from pyarabic) (1.15.0)\n",
            "Installing collected packages: pyarabic\n",
            "Successfully installed pyarabic-0.6.14\n",
            "Collecting sentencepiece\n",
            "  Downloading sentencepiece-0.1.96-cp37-cp37m-manylinux_2_17_x86_64.manylinux2014_x86_64.whl (1.2 MB)\n",
            "\u001b[K     |████████████████████████████████| 1.2 MB 8.1 MB/s \n",
            "\u001b[?25hInstalling collected packages: sentencepiece\n",
            "Successfully installed sentencepiece-0.1.96\n",
            "Cloning into 'arabert'...\n",
            "remote: Enumerating objects: 556, done.\u001b[K\n",
            "remote: Counting objects: 100% (342/342), done.\u001b[K\n",
            "remote: Compressing objects: 100% (245/245), done.\u001b[K\n",
            "remote: Total 556 (delta 182), reused 244 (delta 91), pack-reused 214\u001b[K\n",
            "Receiving objects: 100% (556/556), 9.16 MiB | 2.05 MiB/s, done.\n",
            "Resolving deltas: 100% (305/305), done.\n",
            "Cloning into 'JUST-Arabic-Propaganda'...\n",
            "remote: Enumerating objects: 1533, done.\u001b[K\n",
            "remote: Counting objects: 100% (1533/1533), done.\u001b[K\n",
            "remote: Compressing objects: 100% (1423/1423), done.\u001b[K\n",
            "remote: Total 1533 (delta 49), reused 1518 (delta 37), pack-reused 0\u001b[K\n",
            "Receiving objects: 100% (1533/1533), 3.02 MiB | 18.54 MiB/s, done.\n",
            "Resolving deltas: 100% (49/49), done.\n"
          ]
        }
      ]
    },
    {
      "cell_type": "code",
      "metadata": {
        "id": "PBcXVmYUXrlp"
      },
      "source": [
        "import pandas as pd\n",
        "import numpy as np\n",
        "import re"
      ],
      "execution_count": 4,
      "outputs": []
    },
    {
      "cell_type": "code",
      "metadata": {
        "id": "_H-wAbXV2CAm"
      },
      "source": [
        "import torch\n",
        "import torch.nn as nn\n",
        "import torch.nn.functional as F\n",
        "from torch.utils.data import DataLoader\n",
        "from tqdm.notebook import tqdm\n",
        "\n",
        "from arabert.preprocess import ArabertPreprocessor\n",
        "import transformers\n",
        "from sklearn import model_selection\n",
        "from sklearn import metrics\n",
        "from transformers import AdamW\n",
        "from transformers import get_linear_schedule_with_warmup"
      ],
      "execution_count": 5,
      "outputs": []
    },
    {
      "cell_type": "code",
      "metadata": {
        "id": "SVtSMmYHBLR-"
      },
      "source": [
        "import matplotlib.pyplot as plt\n",
        "import seaborn as sns\n",
        "import json\n",
        "from pathlib import Path\n",
        "from sklearn.metrics import confusion_matrix\n",
        "%matplotlib inline"
      ],
      "execution_count": 6,
      "outputs": []
    },
    {
      "cell_type": "markdown",
      "metadata": {
        "id": "FF_daCPa5S18"
      },
      "source": [
        "#Utility"
      ]
    },
    {
      "cell_type": "code",
      "metadata": {
        "id": "qm2ayp0A5WN_"
      },
      "source": [
        "def eval_fn(data_loader, model, device):\n",
        "  \"\"\"\n",
        "  Similar to the training function but the model is in evaluation mode (model \n",
        "  layers are frozen).\n",
        "\n",
        "  Performs forward-prop on the model with the validation data.\n",
        "  Returns the model predictions as well as the data gold labels.\n",
        "  \"\"\"\n",
        "  fin_targets = []\n",
        "  fin_outputs = []\n",
        "  with torch.no_grad():\n",
        "    for bi, d in tqdm(enumerate(data_loader), total=len(data_loader)):\n",
        "      ids = d[\"ids\"]\n",
        "      token_type_ids = d[\"token_type_ids\"]\n",
        "      mask = d[\"mask\"]\n",
        "      targets = d[\"targets\"]\n",
        "\n",
        "      ids = ids.to(device, dtype=torch.long)\n",
        "      token_type_ids = token_type_ids.to(device, dtype=torch.long)\n",
        "      mask = mask.to(device, dtype=torch.long)\n",
        "      targets = targets.to(device, dtype=torch.float)\n",
        "\n",
        "      outputs = model(ids=ids, mask=mask, token_type_ids=token_type_ids)\n",
        "      fin_targets.extend(targets.cpu().detach().numpy().tolist())\n",
        "      fin_outputs.extend(F.softmax(outputs, dim = 1).cpu().detach().numpy().tolist())\n",
        "  return fin_outputs, fin_targets"
      ],
      "execution_count": 7,
      "outputs": []
    },
    {
      "cell_type": "code",
      "metadata": {
        "id": "bIntIcfN5pd8"
      },
      "source": [
        "def MapLabels(df):\n",
        "  \"\"\"\n",
        "  Function to preprocess data.\n",
        "  Creates a one-hot-encoded version of the labels.\n",
        "  \"\"\"\n",
        "  onehot_col = []\n",
        "  map = {\n",
        "      'Appeal_to_Authority':0,\n",
        "      'Appeal_to_fear-prejudice':1,\n",
        "      'Bandwagon,Reductio_ad_hitlerum':2,\n",
        "      'Black-and-White_Fallacy':3,\n",
        "      'Causal_Oversimplification':4,\n",
        "      'Doubt':5,\n",
        "      'Exaggeration,Minimisation':6,\n",
        "      'Flag-Waving':7,\n",
        "      'Loaded_Language':8,\n",
        "      'Name_Calling,Labeling':9,\n",
        "      'Repetition':10,\n",
        "      'Slogans':11,\n",
        "      'Thought-terminating_Cliches':12,\n",
        "      'Whataboutism,Straw_Men,Red_Herring':13\n",
        "  }\n",
        "\n",
        "  for idx,row in df.iterrows():\n",
        "    temp = [0] * 14\n",
        "    label = row['label']\n",
        "    temp[map[label]] = 1\n",
        "    onehot_col.append(temp)\n",
        "  \n",
        "  df['onehot'] = onehot_col\n",
        "  return df"
      ],
      "execution_count": 8,
      "outputs": []
    },
    {
      "cell_type": "code",
      "metadata": {
        "id": "4-kzr5Gb8uWm"
      },
      "source": [
        "class Dataset:\n",
        "  \"\"\"\n",
        "  Class Dataset used to create an iterable version of the dataset with the\n",
        "  ability to return the text tokenized upon indexing.\n",
        "\n",
        "  An object of this class can be treated as a list object. Indexing with this \n",
        "  object (ex: dataset[idx] ) will return a dictionary. \n",
        "  \"\"\"\n",
        "  def __init__(self, text, target):\n",
        "    self.text = text\n",
        "    self.target = target\n",
        "    self.max_len = config['MAX_LEN']\n",
        "\n",
        "  def __len__(self):\n",
        "    return len(self.text)\n",
        "  \n",
        "  def getitem(self, item, tokenizer):\n",
        "    text = str(self.text[item])\n",
        "    text = \" \".join(text.split())\n",
        "\n",
        "    inputs = tokenizer.encode_plus(\n",
        "        text,\n",
        "        None,\n",
        "        add_special_tokens=True,\n",
        "        max_length=self.max_len,\n",
        "        padding='max_length',\n",
        "        truncation='longest_first'\n",
        "    )\n",
        "\n",
        "    ids = inputs['input_ids']\n",
        "    mask = inputs['attention_mask']\n",
        "    token_type_ids = inputs['token_type_ids']\n",
        "\n",
        "    return {\n",
        "        \"ids\": torch.tensor(ids, dtype=torch.long),\n",
        "        \"mask\": torch.tensor(mask, dtype=torch.long),\n",
        "        \"token_type_ids\": torch.tensor(token_type_ids, dtype=torch.long),\n",
        "        \"targets\": torch.tensor(self.target[item], dtype=torch.float),\n",
        "    }"
      ],
      "execution_count": 90,
      "outputs": []
    },
    {
      "cell_type": "code",
      "metadata": {
        "id": "fxQ5ypw0exaI"
      },
      "source": [
        "def predict(model, ids, token_type_ids, mask):\n",
        "  outputs = model(ids=ids, mask=mask, token_type_ids=token_type_ids)\n",
        "  prediction = F.softmax(outputs, dim = 1).cpu().detach().numpy()\n",
        "  prediction = np.squeeze(prediction, axis = 0)\n",
        "  prediction = (prediction >=0.5).astype(int).tolist()\n",
        "  return prediction"
      ],
      "execution_count": null,
      "outputs": []
    },
    {
      "cell_type": "code",
      "metadata": {
        "id": "7XJAxhKRpTVA"
      },
      "source": [
        "def Ensemble(models, test, weights=[1]*len(models)):\n",
        "  test = MapLabels(test)\n",
        "  test_dataset = Dataset(\n",
        "        text=test['Arabic'].values,\n",
        "        target=test['onehot'].values,\n",
        "    )\n",
        "  predictions = []\n",
        "  targets = test['onehot'].values.tolist()\n",
        "  print(\"Using models:\\n\")\n",
        "  for model in models:\n",
        "    print(model.model_id)\n",
        "  for i in tqdm(range(len(test))):\n",
        "\n",
        "    ensemble_predictions = []\n",
        "    for model in models:\n",
        "      data = test_dataset.getitem(i, model.tokenizer)\n",
        "      ids = data['ids'].unsqueeze(dim=0).to(device)\n",
        "      token_type_ids = data['token_type_ids'].unsqueeze(dim=0).to(device)\n",
        "      mask = data['mask'].unsqueeze(dim=0).to(device)\n",
        "      prediction = predict(model,\n",
        "                          ids=ids,\n",
        "                          token_type_ids=token_type_ids,\n",
        "                          mask=mask)\n",
        "      ensemble_predictions.append(prediction)\n",
        "    avg = np.average(np.array(ensemble_predictions), axis=0, weights=weights)\n",
        "    avg = (avg >=0.5).astype(int).tolist()\n",
        "    predictions.append(avg)\n",
        "\n",
        "  f1_micro = metrics.f1_score(targets, predictions,average='micro')\n",
        "  accuracy = metrics.accuracy_score(targets, predictions)\n",
        "  print(f\"<---------------Test Set Performance--------------->\")\n",
        "  print(f\"f1-Micro Score = {f1_micro}\")\n",
        "  print(f\"Accuracy Score = {accuracy}\")\n",
        "\n",
        "  return predictions, targets"
      ],
      "execution_count": null,
      "outputs": []
    },
    {
      "cell_type": "code",
      "metadata": {
        "id": "AyAc-qCceuEB"
      },
      "source": [
        "def print_confusion_matrix(confusion_matrix, axes, class_label, class_names, fontsize=14):\n",
        "  \"\"\"\n",
        "  Function to print confusion matrix for labels.\n",
        "  \"\"\"\n",
        "  df_cm = pd.DataFrame(\n",
        "      confusion_matrix, index=class_names, columns=class_names,\n",
        "  )\n",
        "\n",
        "  try:\n",
        "      heatmap = sns.heatmap(df_cm, annot=True, fmt=\"d\", cbar=False, ax=axes)\n",
        "  except ValueError:\n",
        "      raise ValueError(\"Confusion matrix values must be integers.\")\n",
        "  heatmap.yaxis.set_ticklabels(heatmap.yaxis.get_ticklabels(), rotation=0, ha='right', fontsize=fontsize)\n",
        "  heatmap.xaxis.set_ticklabels(heatmap.xaxis.get_ticklabels(), rotation=45, ha='right', fontsize=fontsize)\n",
        "  axes.set_ylabel('True label')\n",
        "  axes.set_xlabel('Predicted label')\n",
        "  axes.set_title(class_label)"
      ],
      "execution_count": 149,
      "outputs": []
    },
    {
      "cell_type": "markdown",
      "metadata": {
        "id": "rzAtfevQ5qdZ"
      },
      "source": [
        "#Architectures"
      ]
    },
    {
      "cell_type": "code",
      "metadata": {
        "id": "-EGt87ZJ5sjT"
      },
      "source": [
        "class TransformerModel(nn.Module):\n",
        "    def __init__(self, model_id, hidden_size, num_labels, tokenizer):\n",
        "        super(TransformerModel, self).__init__()\n",
        "        self.model_id = model_id\n",
        "        self.tokenizer = tokenizer\n",
        "\n",
        "        self.bert = transformers.BertModel.from_pretrained(model_id, return_dict=False)\n",
        "        self.bert_drop = nn.Dropout(0.0)\n",
        "        self.out = nn.Linear(hidden_size, num_labels)\n",
        "\n",
        "\n",
        "    def forward(self, ids, mask, token_type_ids):\n",
        "        _, o2 = self.bert(ids, attention_mask=mask, token_type_ids=token_type_ids)\n",
        "        bo = self.bert_drop(o2)\n",
        "        output = self.out(bo)\n",
        "        return output\n"
      ],
      "execution_count": 192,
      "outputs": []
    },
    {
      "cell_type": "markdown",
      "metadata": {
        "id": "jtbOcG_k90eT"
      },
      "source": [
        "#config"
      ]
    },
    {
      "cell_type": "code",
      "metadata": {
        "id": "CYfic78G9IZt"
      },
      "source": [
        "\"\"\"\n",
        "aubmindlab/bert-base-arabertv02\n",
        "asafaya/bert-base-arabic\n",
        "kuisailab/albert-base-arabic\n",
        "UBC-NLP/ARBERT\n",
        "UBC-NLP/MARBERT\n",
        "\"\"\"\n",
        "config = {\n",
        "    'MAX_LEN':200,\n",
        "    'DEVICE':'cuda',\n",
        "    'results_save_path':\"/content/drive/MyDrive/Grad/Grad Proj 2/Arabic_Prop/Ensembles/\",\n",
        "}\n",
        "device = torch.device(config['DEVICE'])"
      ],
      "execution_count": 161,
      "outputs": []
    },
    {
      "cell_type": "code",
      "metadata": {
        "id": "sG9Owy9M5wXL"
      },
      "source": [
        "path = r'/content/JUST-Arabic-Propaganda/data/Translated Data/'\n",
        "train = pd.read_csv(path+'train.csv')\n",
        "valid = pd.read_csv(path+'valid.csv')\n",
        "test = pd.read_csv(path+'test.csv')"
      ],
      "execution_count": 186,
      "outputs": []
    },
    {
      "cell_type": "markdown",
      "metadata": {
        "id": "_nmAM-aR5lb4"
      },
      "source": [
        "#Load models"
      ]
    },
    {
      "cell_type": "code",
      "metadata": {
        "id": "FXg53WJ_511L"
      },
      "source": [
        "model_args = {\n",
        "    'model_id':'asafaya/bert-base-arabic',\n",
        "    'hidden_size':768,\n",
        "    'num_labels':14,\n",
        "\n",
        "    'model_path':\"/content/drive/MyDrive/Grad/Grad Proj 2/Arabic_Prop/Transformers/model.bin\",\n",
        "}\n",
        "tokenizer_1 = transformers.BertTokenizer.from_pretrained(model_args['model_id'])\n",
        "model_1 = TransformerModel(model_id = model_args['model_id'],\n",
        "                           hidden_size = model_args['hidden_size'],\n",
        "                           num_labels = model_args['num_labels'],\n",
        "                           tokenizer=tokenizer_1,\n",
        "                           )\n",
        "\n",
        "model_1.load_state_dict(torch.load(model_args['model_path']))\n",
        "\n",
        "\n",
        "model_1.eval()\n",
        "model_1.to(device)\n",
        "something = 1"
      ],
      "execution_count": 196,
      "outputs": []
    },
    {
      "cell_type": "code",
      "metadata": {
        "id": "cRjPXLM6fzkp"
      },
      "source": [
        "model_args = {\n",
        "    'model_id':'UBC-NLP/ARBERT',\n",
        "    'hidden_size':768,\n",
        "    'num_labels':14,\n",
        "\n",
        "    'model_path':\"/content/drive/MyDrive/Grad/Grad Proj 2/Arabic_Prop/Tuning/UBC-NLP-ARBERT_final_model.bin\",\n",
        "}\n",
        "tokenizer_2 = transformers.BertTokenizer.from_pretrained(model_args['model_id'])\n",
        "model_2 = TransformerModel(model_id = model_args['model_id'],\n",
        "                           hidden_size = model_args['hidden_size'],\n",
        "                           num_labels = model_args['num_labels'],\n",
        "                           tokenizer=tokenizer_2,\n",
        "                           )\n",
        "\n",
        "model_2.load_state_dict(torch.load(model_args['model_path']))\n",
        "\n",
        "\n",
        "model_2.eval()\n",
        "model_2.to(device)\n",
        "something = 1"
      ],
      "execution_count": 197,
      "outputs": []
    },
    {
      "cell_type": "code",
      "metadata": {
        "id": "9Dk9-JuHf0Zz"
      },
      "source": [
        "model_args = {\n",
        "    'model_id':'aubmindlab/bert-base-arabertv02',\n",
        "    'hidden_size':768,\n",
        "    'num_labels':14,\n",
        "\n",
        "    'model_path':\"/content/drive/MyDrive/Grad/Grad Proj 2/Arabic_Prop/Tuning/bert-base-arabertv02_final_model.bin\",\n",
        "}\n",
        "tokenizer_3 = transformers.BertTokenizer.from_pretrained(model_args['model_id'])\n",
        "model_3 = TransformerModel(model_id = model_args['model_id'],\n",
        "                           hidden_size = model_args['hidden_size'],\n",
        "                           num_labels = model_args['num_labels'],\n",
        "                           tokenizer=tokenizer_3,\n",
        "                           )\n",
        "\n",
        "model_3.load_state_dict(torch.load(model_args['model_path']))\n",
        "\n",
        "\n",
        "model_3.eval()\n",
        "model_3.to(device)\n",
        "something = 1"
      ],
      "execution_count": 198,
      "outputs": []
    },
    {
      "cell_type": "markdown",
      "metadata": {
        "id": "lfHifrRI99rX"
      },
      "source": [
        "#Run"
      ]
    },
    {
      "cell_type": "code",
      "metadata": {
        "colab": {
          "base_uri": "https://localhost:8080/",
          "height": 178,
          "referenced_widgets": [
            "81d75ea41b6a485387d99729da02e8f7",
            "63884e9793d549e6964d6cfa535375d3",
            "f45ed80d72cf422b8de85b16590014da",
            "dc92a5310dce422e8800a661f0a4bfdc",
            "259b1cac90e54b99bba2dbbb8667aeca",
            "3d845bd97ea442a89204ba42332a3fd2",
            "04429a7ae4df424197b858066ad6df13",
            "61fcc04405324bb781fcca7b519f65c9",
            "c9534fec28d24e40b845156e94713ef0",
            "f373bcfb38db46c2b5c158e592ee699d",
            "cb1ef9a6d49d4df380dc1975ad75abc8"
          ]
        },
        "id": "wX8Lu-UpnwtM",
        "outputId": "44f5af89-c39d-4f48-9840-b3e7b1f0f967"
      },
      "source": [
        "models = [model_1, model_2, model_3]\n",
        "predictions, targets = Ensemble(models, test)"
      ],
      "execution_count": 202,
      "outputs": [
        {
          "output_type": "stream",
          "name": "stdout",
          "text": [
            "Using models:\n",
            "\n",
            "asafaya/bert-base-arabic\n",
            "UBC-NLP/ARBERT\n",
            "aubmindlab/bert-base-arabertv02\n"
          ]
        },
        {
          "output_type": "display_data",
          "data": {
            "application/vnd.jupyter.widget-view+json": {
              "model_id": "81d75ea41b6a485387d99729da02e8f7",
              "version_minor": 0,
              "version_major": 2
            },
            "text/plain": [
              "  0%|          | 0/720 [00:00<?, ?it/s]"
            ]
          },
          "metadata": {}
        },
        {
          "output_type": "stream",
          "name": "stdout",
          "text": [
            "<---------------Test Set Performance--------------->\n",
            "f1-Micro Score = 0.6652014652014652\n",
            "Accuracy Score = 0.6305555555555555\n"
          ]
        }
      ]
    },
    {
      "cell_type": "code",
      "metadata": {
        "colab": {
          "base_uri": "https://localhost:8080/",
          "height": 916
        },
        "id": "3RO8qNj6en8a",
        "outputId": "cd53ffd9-aed5-4fb5-ce89-a88ce7700e0f"
      },
      "source": [
        "gold_list = targets\n",
        "preds_list = predictions\n",
        "\n",
        "target_names = [\n",
        "      'Appeal_to_Authority',\n",
        "      'Appeal_to_fear-prejudice',\n",
        "      'Bandwagon,Reductio_ad_hitlerum',\n",
        "      'Black-and-White_Fallacy',\n",
        "      'Causal_Oversimplification',\n",
        "      'Doubt',\n",
        "      'Exaggeration,Minimisation',\n",
        "      'Flag-Waving',\n",
        "      'Loaded_Language',\n",
        "      'Name_Calling,Labeling',\n",
        "      'Repetition',\n",
        "      'Slogans',\n",
        "      'Thought-terminating_Cliches',\n",
        "      'Whataboutism,Straw_Men,Red_Herring']\n",
        "\n",
        "\n",
        "report = metrics.classification_report(gold_list, preds_list, target_names=target_names,zero_division=0,digits=4)\n",
        "cm = metrics.multilabel_confusion_matrix(gold_list, preds_list)\n",
        "accuracy = metrics.accuracy_score(gold_list, preds_list)\n",
        "\n",
        "print()\n",
        "print(report)\n",
        "\n",
        "fig, ax = plt.subplots(2, 7, figsize=(30, 8))\n",
        "for axes, cmi, label in zip(ax.flatten(), cm, target_names):\n",
        "    print_confusion_matrix(cmi, axes, label, [\"N\", \"Y\"])\n",
        "fig.tight_layout()\n",
        "plt.show()\n",
        "fig.savefig(config['results_save_path']+\"confusion_matrices.png\")"
      ],
      "execution_count": 203,
      "outputs": [
        {
          "output_type": "stream",
          "name": "stdout",
          "text": [
            "\n",
            "                                    precision    recall  f1-score   support\n",
            "\n",
            "               Appeal_to_Authority     0.5625    0.5625    0.5625        16\n",
            "          Appeal_to_fear-prejudice     0.4815    0.3824    0.4262        34\n",
            "    Bandwagon,Reductio_ad_hitlerum     0.5000    0.1429    0.2222         7\n",
            "           Black-and-White_Fallacy     0.5000    0.2308    0.3158        13\n",
            "         Causal_Oversimplification     0.5294    0.3913    0.4500        23\n",
            "                             Doubt     0.6809    0.5714    0.6214        56\n",
            "         Exaggeration,Minimisation     0.5897    0.4259    0.4946        54\n",
            "                       Flag-Waving     0.8182    0.5625    0.6667        32\n",
            "                   Loaded_Language     0.7800    0.7959    0.7879       245\n",
            "             Name_Calling,Labeling     0.6935    0.6935    0.6935       124\n",
            "                        Repetition     0.7424    0.6364    0.6853        77\n",
            "                           Slogans     0.7857    0.6471    0.7097        17\n",
            "       Thought-terminating_Cliches     0.3000    0.3333    0.3158         9\n",
            "Whataboutism,Straw_Men,Red_Herring     0.4000    0.1538    0.2222        13\n",
            "\n",
            "                         micro avg     0.7039    0.6306    0.6652       720\n",
            "                         macro avg     0.5974    0.4664    0.5124       720\n",
            "                      weighted avg     0.6934    0.6306    0.6555       720\n",
            "                       samples avg     0.6306    0.6306    0.6306       720\n",
            "\n"
          ]
        },
        {
          "output_type": "display_data",
          "data": {
            "image/png": "[encoded data removed]",
            "text/plain": [
              "<Figure size 2160x576 with 14 Axes>"
            ]
          },
          "metadata": {
            "needs_background": "light"
          }
        }
      ]
    }
  ]
}